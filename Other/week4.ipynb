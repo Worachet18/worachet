{
 "cells": [
  {
   "cell_type": "markdown",
   "metadata": {},
   "source": [
    "##Week 04 paho MQTT"
   ]
  },
  {
   "cell_type": "code",
   "execution_count": 5,
   "metadata": {},
   "outputs": [
    {
     "name": "stdout",
     "output_type": "stream",
     "text": [
      "Good morning\n"
     ]
    }
   ],
   "source": [
    "print(\"Good morning\")\n",
    "a=5"
   ]
  },
  {
   "cell_type": "markdown",
   "metadata": {},
   "source": [
    "##Simple PUBLISH\n",
    "import paho.mqtt.client as mqtt\n",
    "broker_address=\"electsut.trueddns.com\"\n",
    "broker_port=27860\n",
    "client = mqtt.Client(\"B6214197\")\n",
    "client.connect(broker_address,broker_port)\n",
    "client.publish(\"B6214197/python_mqtt\",\"hello\")"
   ]
  },
  {
   "cell_type": "code",
   "execution_count": 3,
   "metadata": {},
   "outputs": [],
   "source": [
    "import paho.mqtt.client as mqtt\n",
    "from time import sleep\n",
    "broker_address=\"electsut.trueddns.com\"\n",
    "broker_port=27860\n",
    "client = mqtt.Client(\"B62141971\") ##client ต้องไม่ตรงกัน \n",
    "client.connect(broker_address,broker_port)\n",
    "\n",
    "def on_message(client,userdata,message):\n",
    "    print(\"message receive=\",str(message.payload.decode()))\n",
    "client.on_message=on_message\n",
    "client.publish(\"B6214197/python_mqtt\",\"hello\")\n",
    "client.subscribe(\"B6214197/python_sub\")\n",
    "client.loop_start()\n",
    "sleep(10) ##วินาที\n",
    "client.loop_stop()\n",
    "##client.loop_forever(timeout=10) ##มันจะรันไปเรื่อยๆ"
   ]
  },
  {
   "cell_type": "code",
   "execution_count": 5,
   "metadata": {},
   "outputs": [
    {
     "name": "stdout",
     "output_type": "stream",
     "text": [
      "25\n"
     ]
    }
   ],
   "source": [
    "import json\n",
    "x='{\"name\":\"John\",\"age\":25}'  #json บน python\n",
    "\n",
    "##แปลงเป็น dict\n",
    "y=json.loads(x)  ##ใช้ losds ที่เติม s\n",
    "print(y[\"age\"])"
   ]
  },
  {
   "cell_type": "code",
   "execution_count": 8,
   "metadata": {},
   "outputs": [
    {
     "name": "stdout",
     "output_type": "stream",
     "text": [
      "{\"name\":\"John\",\"age\":25}\n",
      "\"{\\\"name\\\":\\\"John\\\",\\\"age\\\":25}\"\n",
      "<class 'str'>\n"
     ]
    }
   ],
   "source": [
    "import json\n",
    "a='{\"name\":\"John\",\"age\":25}'  #json บน python\n",
    "\n",
    "##แปลงเป็น dict\n",
    "z=json.dumps(x)  ##ใช้ dumps ที่เติม s\n",
    "print(a)\n",
    "print(z)\n",
    "print(type(z))"
   ]
  }
 ],
 "metadata": {
  "interpreter": {
   "hash": "ac59ebe37160ed0dfa835113d9b8498d9f09ceb179beaac4002f036b9467c963"
  },
  "kernelspec": {
   "display_name": "Python 3.9.6 64-bit",
   "language": "python",
   "name": "python3"
  },
  "language_info": {
   "codemirror_mode": {
    "name": "ipython",
    "version": 3
   },
   "file_extension": ".py",
   "mimetype": "text/x-python",
   "name": "python",
   "nbconvert_exporter": "python",
   "pygments_lexer": "ipython3",
   "version": "3.9.6"
  },
  "orig_nbformat": 4
 },
 "nbformat": 4,
 "nbformat_minor": 2
}
